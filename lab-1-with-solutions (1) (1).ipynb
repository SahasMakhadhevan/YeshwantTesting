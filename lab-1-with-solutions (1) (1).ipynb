{
  "metadata": {
    "kernelspec": {
      "name": "python",
      "display_name": "Python (Pyodide)",
      "language": "python"
    },
    "language_info": {
      "codemirror_mode": {
        "name": "python",
        "version": 3
      },
      "file_extension": ".py",
      "mimetype": "text/x-python",
      "name": "python",
      "nbconvert_exporter": "python",
      "pygments_lexer": "ipython3",
      "version": "3.8"
    }
  },
  "nbformat_minor": 5,
  "nbformat": 4,
  "cells": [
    {
      "cell_type": "markdown",
      "source": "# Lab 1 - POD analysis of separated flow past a NACA0018 airfoil ",
      "metadata": {},
      "id": "84962b7b"
    },
    {
      "cell_type": "markdown",
      "source": "In this lab we are going to apply POD to obtain a better understanding of the structure and evolution of the flow past a NACA0018 airfoil. In addition, this lab will teach you practical data manipulation skills using NumPy.\n\nData for this lab has been collected by Dr Sean Symon for his PhD (see [this link](https://www.cambridge.org/core/journals/journal-of-fluid-mechanics/article/tale-of-two-airfoils-resolventbased-modelling-of-an-oscillator-versus-an-amplifier-from-an-experimental-mean/2CE698E25A77016C41636048BCFA17AE)). The data has been collected from Particle Image Velocimetry (PIV), a optical measurement technique (i.e. using a camera) that measures the dislacement of small smoke particles released into the flow to extract two velocity components in a plane illuminated by a LASER sheet. You can find more about PIV on its Wikipedia [article](https://en.wikipedia.org/wiki/Particle_image_velocimetry), or by taking the Experimental Methods for Aerodynamics module SESA6070. Details of the experiments can be found in the journal article referenced above (or by talking to Dr Symon).\n\nTwo datasets are available, at two angles of attack: $\\alpha = 0$ and 10 degrees. We'll start by examining the second case, where large-scale flow separation is expected on the upper surface of the airfoil. You are welcome to examine the other case in your own time.\n\nWe will start with a few basic imports:",
      "metadata": {},
      "id": "dad85872"
    },
    {
      "cell_type": "code",
      "source": "import matplotlib.pyplot as plt\nimport scipy.io\nimport numpy as np\n\n%matplotlib qt",
      "metadata": {
        "trusted": true
      },
      "execution_count": 1,
      "outputs": [
        {
          "ename": "<class 'ImportError'>",
          "evalue": "Failed to import any qt binding",
          "traceback": [
            "\u001b[0;31m---------------------------------------------------------------------------\u001b[0m",
            "\u001b[0;31mImportError\u001b[0m                               Traceback (most recent call last)",
            "Cell \u001b[0;32mIn [1], line 5\u001b[0m\n\u001b[1;32m      2\u001b[0m \u001b[38;5;28;01mimport\u001b[39;00m \u001b[38;5;21;01mscipy\u001b[39;00m\u001b[38;5;21;01m.\u001b[39;00m\u001b[38;5;21;01mio\u001b[39;00m\n\u001b[1;32m      3\u001b[0m \u001b[38;5;28;01mimport\u001b[39;00m \u001b[38;5;21;01mnumpy\u001b[39;00m \u001b[38;5;28;01mas\u001b[39;00m \u001b[38;5;21;01mnp\u001b[39;00m\n\u001b[0;32m----> 5\u001b[0m \u001b[43mget_ipython\u001b[49m\u001b[43m(\u001b[49m\u001b[43m)\u001b[49m\u001b[38;5;241;43m.\u001b[39;49m\u001b[43mrun_line_magic\u001b[49m\u001b[43m(\u001b[49m\u001b[38;5;124;43m'\u001b[39;49m\u001b[38;5;124;43mmatplotlib\u001b[39;49m\u001b[38;5;124;43m'\u001b[39;49m\u001b[43m,\u001b[49m\u001b[43m \u001b[49m\u001b[38;5;124;43m'\u001b[39;49m\u001b[38;5;124;43mqt\u001b[39;49m\u001b[38;5;124;43m'\u001b[39;49m\u001b[43m)\u001b[49m\n",
            "File \u001b[0;32m/lib/python3.10/site-packages/IPython/core/interactiveshell.py:2364\u001b[0m, in \u001b[0;36mInteractiveShell.run_line_magic\u001b[0;34m(self, magic_name, line, _stack_depth)\u001b[0m\n\u001b[1;32m   2362\u001b[0m     kwargs[\u001b[38;5;124m'\u001b[39m\u001b[38;5;124mlocal_ns\u001b[39m\u001b[38;5;124m'\u001b[39m] \u001b[38;5;241m=\u001b[39m \u001b[38;5;28mself\u001b[39m\u001b[38;5;241m.\u001b[39mget_local_scope(stack_depth)\n\u001b[1;32m   2363\u001b[0m \u001b[38;5;28;01mwith\u001b[39;00m \u001b[38;5;28mself\u001b[39m\u001b[38;5;241m.\u001b[39mbuiltin_trap:\n\u001b[0;32m-> 2364\u001b[0m     result \u001b[38;5;241m=\u001b[39m fn(\u001b[38;5;241m*\u001b[39margs, \u001b[38;5;241m*\u001b[39m\u001b[38;5;241m*\u001b[39mkwargs)\n\u001b[1;32m   2365\u001b[0m \u001b[38;5;28;01mreturn\u001b[39;00m result\n",
            "File \u001b[0;32m/lib/python3.10/site-packages/IPython/core/magics/pylab.py:99\u001b[0m, in \u001b[0;36mPylabMagics.matplotlib\u001b[0;34m(self, line)\u001b[0m\n\u001b[1;32m     97\u001b[0m     \u001b[38;5;28mprint\u001b[39m(\u001b[38;5;124m\"\u001b[39m\u001b[38;5;124mAvailable matplotlib backends: \u001b[39m\u001b[38;5;132;01m%s\u001b[39;00m\u001b[38;5;124m\"\u001b[39m \u001b[38;5;241m%\u001b[39m backends_list)\n\u001b[1;32m     98\u001b[0m \u001b[38;5;28;01melse\u001b[39;00m:\n\u001b[0;32m---> 99\u001b[0m     gui, backend \u001b[38;5;241m=\u001b[39m \u001b[38;5;28;43mself\u001b[39;49m\u001b[38;5;241;43m.\u001b[39;49m\u001b[43mshell\u001b[49m\u001b[38;5;241;43m.\u001b[39;49m\u001b[43menable_matplotlib\u001b[49m\u001b[43m(\u001b[49m\u001b[43margs\u001b[49m\u001b[38;5;241;43m.\u001b[39;49m\u001b[43mgui\u001b[49m\u001b[38;5;241;43m.\u001b[39;49m\u001b[43mlower\u001b[49m\u001b[43m(\u001b[49m\u001b[43m)\u001b[49m\u001b[43m \u001b[49m\u001b[38;5;28;43;01mif\u001b[39;49;00m\u001b[43m \u001b[49m\u001b[38;5;28;43misinstance\u001b[39;49m\u001b[43m(\u001b[49m\u001b[43margs\u001b[49m\u001b[38;5;241;43m.\u001b[39;49m\u001b[43mgui\u001b[49m\u001b[43m,\u001b[49m\u001b[43m \u001b[49m\u001b[38;5;28;43mstr\u001b[39;49m\u001b[43m)\u001b[49m\u001b[43m \u001b[49m\u001b[38;5;28;43;01melse\u001b[39;49;00m\u001b[43m \u001b[49m\u001b[43margs\u001b[49m\u001b[38;5;241;43m.\u001b[39;49m\u001b[43mgui\u001b[49m\u001b[43m)\u001b[49m\n\u001b[1;32m    100\u001b[0m     \u001b[38;5;28mself\u001b[39m\u001b[38;5;241m.\u001b[39m_show_matplotlib_backend(args\u001b[38;5;241m.\u001b[39mgui, backend)\n",
            "File \u001b[0;32m/lib/python3.10/site-packages/IPython/core/interactiveshell.py:3528\u001b[0m, in \u001b[0;36mInteractiveShell.enable_matplotlib\u001b[0;34m(self, gui)\u001b[0m\n\u001b[1;32m   3524\u001b[0m         \u001b[38;5;28mprint\u001b[39m(\u001b[38;5;124m'\u001b[39m\u001b[38;5;124mWarning: Cannot change to a different GUI toolkit: \u001b[39m\u001b[38;5;132;01m%s\u001b[39;00m\u001b[38;5;124m.\u001b[39m\u001b[38;5;124m'\u001b[39m\n\u001b[1;32m   3525\u001b[0m                 \u001b[38;5;124m'\u001b[39m\u001b[38;5;124m Using \u001b[39m\u001b[38;5;132;01m%s\u001b[39;00m\u001b[38;5;124m instead.\u001b[39m\u001b[38;5;124m'\u001b[39m \u001b[38;5;241m%\u001b[39m (gui, \u001b[38;5;28mself\u001b[39m\u001b[38;5;241m.\u001b[39mpylab_gui_select))\n\u001b[1;32m   3526\u001b[0m         gui, backend \u001b[38;5;241m=\u001b[39m pt\u001b[38;5;241m.\u001b[39mfind_gui_and_backend(\u001b[38;5;28mself\u001b[39m\u001b[38;5;241m.\u001b[39mpylab_gui_select)\n\u001b[0;32m-> 3528\u001b[0m \u001b[43mpt\u001b[49m\u001b[38;5;241;43m.\u001b[39;49m\u001b[43mactivate_matplotlib\u001b[49m\u001b[43m(\u001b[49m\u001b[43mbackend\u001b[49m\u001b[43m)\u001b[49m\n\u001b[1;32m   3529\u001b[0m configure_inline_support(\u001b[38;5;28mself\u001b[39m, backend)\n\u001b[1;32m   3531\u001b[0m \u001b[38;5;66;03m# Now we must activate the gui pylab wants to use, and fix %run to take\u001b[39;00m\n\u001b[1;32m   3532\u001b[0m \u001b[38;5;66;03m# plot updates into account\u001b[39;00m\n",
            "File \u001b[0;32m/lib/python3.10/site-packages/IPython/core/pylabtools.py:360\u001b[0m, in \u001b[0;36mactivate_matplotlib\u001b[0;34m(backend)\u001b[0m\n\u001b[1;32m    355\u001b[0m \u001b[38;5;66;03m# Due to circular imports, pyplot may be only partially initialised\u001b[39;00m\n\u001b[1;32m    356\u001b[0m \u001b[38;5;66;03m# when this function runs.\u001b[39;00m\n\u001b[1;32m    357\u001b[0m \u001b[38;5;66;03m# So avoid needing matplotlib attribute-lookup to access pyplot.\u001b[39;00m\n\u001b[1;32m    358\u001b[0m \u001b[38;5;28;01mfrom\u001b[39;00m \u001b[38;5;21;01mmatplotlib\u001b[39;00m \u001b[38;5;28;01mimport\u001b[39;00m pyplot \u001b[38;5;28;01mas\u001b[39;00m plt\n\u001b[0;32m--> 360\u001b[0m \u001b[43mplt\u001b[49m\u001b[38;5;241;43m.\u001b[39;49m\u001b[43mswitch_backend\u001b[49m\u001b[43m(\u001b[49m\u001b[43mbackend\u001b[49m\u001b[43m)\u001b[49m\n\u001b[1;32m    362\u001b[0m plt\u001b[38;5;241m.\u001b[39mshow\u001b[38;5;241m.\u001b[39m_needmain \u001b[38;5;241m=\u001b[39m \u001b[38;5;28;01mFalse\u001b[39;00m\n\u001b[1;32m    363\u001b[0m \u001b[38;5;66;03m# We need to detect at runtime whether show() is called by the user.\u001b[39;00m\n\u001b[1;32m    364\u001b[0m \u001b[38;5;66;03m# For this, we wrap it into a decorator which adds a 'called' flag.\u001b[39;00m\n",
            "File \u001b[0;32m/lib/python3.10/site-packages/matplotlib/pyplot.py:288\u001b[0m, in \u001b[0;36mswitch_backend\u001b[0;34m(newbackend)\u001b[0m\n\u001b[1;32m    281\u001b[0m \u001b[38;5;66;03m# Backends are implemented as modules, but \"inherit\" default method\u001b[39;00m\n\u001b[1;32m    282\u001b[0m \u001b[38;5;66;03m# implementations from backend_bases._Backend.  This is achieved by\u001b[39;00m\n\u001b[1;32m    283\u001b[0m \u001b[38;5;66;03m# creating a \"class\" that inherits from backend_bases._Backend and whose\u001b[39;00m\n\u001b[1;32m    284\u001b[0m \u001b[38;5;66;03m# body is filled with the module's globals.\u001b[39;00m\n\u001b[1;32m    286\u001b[0m backend_name \u001b[38;5;241m=\u001b[39m cbook\u001b[38;5;241m.\u001b[39m_backend_module_name(newbackend)\n\u001b[0;32m--> 288\u001b[0m \u001b[38;5;28;01mclass\u001b[39;00m \u001b[38;5;21;01mbackend_mod\u001b[39;00m(matplotlib\u001b[38;5;241m.\u001b[39mbackend_bases\u001b[38;5;241m.\u001b[39m_Backend):\n\u001b[1;32m    289\u001b[0m     \u001b[38;5;28mlocals\u001b[39m()\u001b[38;5;241m.\u001b[39mupdate(\u001b[38;5;28mvars\u001b[39m(importlib\u001b[38;5;241m.\u001b[39mimport_module(backend_name)))\n\u001b[1;32m    291\u001b[0m required_framework \u001b[38;5;241m=\u001b[39m _get_required_interactive_framework(backend_mod)\n",
            "File \u001b[0;32m/lib/python3.10/site-packages/matplotlib/pyplot.py:289\u001b[0m, in \u001b[0;36mswitch_backend.<locals>.backend_mod\u001b[0;34m()\u001b[0m\n\u001b[1;32m    288\u001b[0m \u001b[38;5;28;01mclass\u001b[39;00m \u001b[38;5;21;01mbackend_mod\u001b[39;00m(matplotlib\u001b[38;5;241m.\u001b[39mbackend_bases\u001b[38;5;241m.\u001b[39m_Backend):\n\u001b[0;32m--> 289\u001b[0m     \u001b[38;5;28mlocals\u001b[39m()\u001b[38;5;241m.\u001b[39mupdate(\u001b[38;5;28mvars\u001b[39m(\u001b[43mimportlib\u001b[49m\u001b[38;5;241;43m.\u001b[39;49m\u001b[43mimport_module\u001b[49m\u001b[43m(\u001b[49m\u001b[43mbackend_name\u001b[49m\u001b[43m)\u001b[49m))\n",
            "File \u001b[0;32m/lib/python3.10/importlib/__init__.py:126\u001b[0m, in \u001b[0;36mimport_module\u001b[0;34m(name, package)\u001b[0m\n\u001b[1;32m    124\u001b[0m             \u001b[38;5;28;01mbreak\u001b[39;00m\n\u001b[1;32m    125\u001b[0m         level \u001b[38;5;241m+\u001b[39m\u001b[38;5;241m=\u001b[39m \u001b[38;5;241m1\u001b[39m\n\u001b[0;32m--> 126\u001b[0m \u001b[38;5;28;01mreturn\u001b[39;00m \u001b[43m_bootstrap\u001b[49m\u001b[38;5;241;43m.\u001b[39;49m\u001b[43m_gcd_import\u001b[49m\u001b[43m(\u001b[49m\u001b[43mname\u001b[49m\u001b[43m[\u001b[49m\u001b[43mlevel\u001b[49m\u001b[43m:\u001b[49m\u001b[43m]\u001b[49m\u001b[43m,\u001b[49m\u001b[43m \u001b[49m\u001b[43mpackage\u001b[49m\u001b[43m,\u001b[49m\u001b[43m \u001b[49m\u001b[43mlevel\u001b[49m\u001b[43m)\u001b[49m\n",
            "File \u001b[0;32m<frozen importlib._bootstrap>:1050\u001b[0m, in \u001b[0;36m_gcd_import\u001b[0;34m(name, package, level)\u001b[0m\n",
            "File \u001b[0;32m<frozen importlib._bootstrap>:1027\u001b[0m, in \u001b[0;36m_find_and_load\u001b[0;34m(name, import_)\u001b[0m\n",
            "File \u001b[0;32m<frozen importlib._bootstrap>:1006\u001b[0m, in \u001b[0;36m_find_and_load_unlocked\u001b[0;34m(name, import_)\u001b[0m\n",
            "File \u001b[0;32m<frozen importlib._bootstrap>:688\u001b[0m, in \u001b[0;36m_load_unlocked\u001b[0;34m(spec)\u001b[0m\n",
            "File \u001b[0;32m<frozen importlib._bootstrap_external>:883\u001b[0m, in \u001b[0;36mexec_module\u001b[0;34m(self, module)\u001b[0m\n",
            "File \u001b[0;32m<frozen importlib._bootstrap>:241\u001b[0m, in \u001b[0;36m_call_with_frames_removed\u001b[0;34m(f, *args, **kwds)\u001b[0m\n",
            "File \u001b[0;32m/lib/python3.10/site-packages/matplotlib/backends/backend_qt5agg.py:7\u001b[0m\n\u001b[1;32m      4\u001b[0m \u001b[38;5;28;01mfrom\u001b[39;00m \u001b[38;5;21;01m.\u001b[39;00m\u001b[38;5;21;01m.\u001b[39;00m \u001b[38;5;28;01mimport\u001b[39;00m backends\n\u001b[1;32m      6\u001b[0m backends\u001b[38;5;241m.\u001b[39m_QT_FORCE_QT5_BINDING \u001b[38;5;241m=\u001b[39m \u001b[38;5;28;01mTrue\u001b[39;00m\n\u001b[0;32m----> 7\u001b[0m \u001b[38;5;28;01mfrom\u001b[39;00m \u001b[38;5;21;01m.\u001b[39;00m\u001b[38;5;21;01mbackend_qtagg\u001b[39;00m \u001b[38;5;28;01mimport\u001b[39;00m (    \u001b[38;5;66;03m# noqa: F401, E402 # pylint: disable=W0611\u001b[39;00m\n\u001b[1;32m      8\u001b[0m     _BackendQTAgg, FigureCanvasQTAgg, FigureManagerQT, NavigationToolbar2QT,\n\u001b[1;32m      9\u001b[0m     backend_version,  FigureCanvasAgg,  FigureCanvasQT\n\u001b[1;32m     10\u001b[0m )\n\u001b[1;32m     13\u001b[0m \u001b[38;5;129m@_BackendQTAgg\u001b[39m\u001b[38;5;241m.\u001b[39mexport\n\u001b[1;32m     14\u001b[0m \u001b[38;5;28;01mclass\u001b[39;00m \u001b[38;5;21;01m_BackendQT5Agg\u001b[39;00m(_BackendQTAgg):\n\u001b[1;32m     15\u001b[0m     \u001b[38;5;28;01mpass\u001b[39;00m\n",
            "File \u001b[0;32m/lib/python3.10/site-packages/matplotlib/backends/backend_qtagg.py:9\u001b[0m\n\u001b[1;32m      5\u001b[0m \u001b[38;5;28;01mimport\u001b[39;00m \u001b[38;5;21;01mctypes\u001b[39;00m\n\u001b[1;32m      7\u001b[0m \u001b[38;5;28;01mfrom\u001b[39;00m \u001b[38;5;21;01mmatplotlib\u001b[39;00m\u001b[38;5;21;01m.\u001b[39;00m\u001b[38;5;21;01mtransforms\u001b[39;00m \u001b[38;5;28;01mimport\u001b[39;00m Bbox\n\u001b[0;32m----> 9\u001b[0m \u001b[38;5;28;01mfrom\u001b[39;00m \u001b[38;5;21;01m.\u001b[39;00m\u001b[38;5;21;01mqt_compat\u001b[39;00m \u001b[38;5;28;01mimport\u001b[39;00m QT_API, _enum, _setDevicePixelRatio\n\u001b[1;32m     10\u001b[0m \u001b[38;5;28;01mfrom\u001b[39;00m \u001b[38;5;21;01m.\u001b[39;00m\u001b[38;5;21;01m.\u001b[39;00m \u001b[38;5;28;01mimport\u001b[39;00m cbook\n\u001b[1;32m     11\u001b[0m \u001b[38;5;28;01mfrom\u001b[39;00m \u001b[38;5;21;01m.\u001b[39;00m\u001b[38;5;21;01mbackend_agg\u001b[39;00m \u001b[38;5;28;01mimport\u001b[39;00m FigureCanvasAgg\n",
            "File \u001b[0;32m/lib/python3.10/site-packages/matplotlib/backends/qt_compat.py:142\u001b[0m\n\u001b[1;32m    140\u001b[0m         \u001b[38;5;28;01mbreak\u001b[39;00m\n\u001b[1;32m    141\u001b[0m     \u001b[38;5;28;01melse\u001b[39;00m:\n\u001b[0;32m--> 142\u001b[0m         \u001b[38;5;28;01mraise\u001b[39;00m \u001b[38;5;167;01mImportError\u001b[39;00m(\u001b[38;5;124m\"\u001b[39m\u001b[38;5;124mFailed to import any qt binding\u001b[39m\u001b[38;5;124m\"\u001b[39m)\n\u001b[1;32m    143\u001b[0m \u001b[38;5;28;01melse\u001b[39;00m:  \u001b[38;5;66;03m# We should not get there.\u001b[39;00m\n\u001b[1;32m    144\u001b[0m     \u001b[38;5;28;01mraise\u001b[39;00m \u001b[38;5;167;01mAssertionError\u001b[39;00m(\u001b[38;5;124mf\u001b[39m\u001b[38;5;124m\"\u001b[39m\u001b[38;5;124mUnexpected QT_API: \u001b[39m\u001b[38;5;132;01m{\u001b[39;00mQT_API\u001b[38;5;132;01m}\u001b[39;00m\u001b[38;5;124m\"\u001b[39m)\n",
            "\u001b[0;31mImportError\u001b[0m: Failed to import any qt binding"
          ],
          "output_type": "error"
        }
      ],
      "id": "f0d434cc"
    },
    {
      "cell_type": "markdown",
      "source": "and also import a function from a custom module that we will use to plot the airfoil.",
      "metadata": {},
      "id": "a0208764"
    },
    {
      "cell_type": "code",
      "source": "from airfoil import plot_airfoil",
      "metadata": {
        "trusted": true
      },
      "execution_count": 2,
      "outputs": [],
      "id": "85f7df7c"
    },
    {
      "cell_type": "markdown",
      "source": "Now, let's start by loading the data. These are Matlab files, which we can also open using `scipy.io.loadmat`. Make sure to replace the path to suit your own file system.",
      "metadata": {},
      "id": "1de8e769"
    },
    {
      "cell_type": "code",
      "source": "# use this variable later too\nAoA = 10\n\n# load file\nmat = scipy.io.loadmat(\"airfoil-PIV-data/AoA=%d.mat\" % AoA)",
      "metadata": {
        "trusted": true
      },
      "execution_count": 3,
      "outputs": [
        {
          "ename": "<class 'FileNotFoundError'>",
          "evalue": "[Errno 44] No such file or directory: 'airfoil-PIV-data/AoA=10.mat'",
          "traceback": [
            "\u001b[0;31m---------------------------------------------------------------------------\u001b[0m",
            "\u001b[0;31mFileNotFoundError\u001b[0m                         Traceback (most recent call last)",
            "File \u001b[0;32m/lib/python3.10/site-packages/scipy/io/matlab/_mio.py:39\u001b[0m, in \u001b[0;36m_open_file\u001b[0;34m(file_like, appendmat, mode)\u001b[0m\n\u001b[1;32m     38\u001b[0m \u001b[38;5;28;01mtry\u001b[39;00m:\n\u001b[0;32m---> 39\u001b[0m     \u001b[38;5;28;01mreturn\u001b[39;00m \u001b[38;5;28;43mopen\u001b[39;49m\u001b[43m(\u001b[49m\u001b[43mfile_like\u001b[49m\u001b[43m,\u001b[49m\u001b[43m \u001b[49m\u001b[43mmode\u001b[49m\u001b[43m)\u001b[49m, \u001b[38;5;28;01mTrue\u001b[39;00m\n\u001b[1;32m     40\u001b[0m \u001b[38;5;28;01mexcept\u001b[39;00m \u001b[38;5;167;01mOSError\u001b[39;00m \u001b[38;5;28;01mas\u001b[39;00m e:\n\u001b[1;32m     41\u001b[0m     \u001b[38;5;66;03m# Probably \"not found\"\u001b[39;00m\n",
            "\u001b[0;31mFileNotFoundError\u001b[0m: [Errno 44] No such file or directory: 'airfoil-PIV-data/AoA=10.mat'",
            "\nDuring handling of the above exception, another exception occurred:\n",
            "\u001b[0;31mFileNotFoundError\u001b[0m                         Traceback (most recent call last)",
            "Cell \u001b[0;32mIn [3], line 5\u001b[0m\n\u001b[1;32m      2\u001b[0m AoA \u001b[38;5;241m=\u001b[39m \u001b[38;5;241m10\u001b[39m\n\u001b[1;32m      4\u001b[0m \u001b[38;5;66;03m# load file\u001b[39;00m\n\u001b[0;32m----> 5\u001b[0m mat \u001b[38;5;241m=\u001b[39m \u001b[43mscipy\u001b[49m\u001b[38;5;241;43m.\u001b[39;49m\u001b[43mio\u001b[49m\u001b[38;5;241;43m.\u001b[39;49m\u001b[43mloadmat\u001b[49m\u001b[43m(\u001b[49m\u001b[38;5;124;43m\"\u001b[39;49m\u001b[38;5;124;43mairfoil-PIV-data/AoA=\u001b[39;49m\u001b[38;5;132;43;01m%d\u001b[39;49;00m\u001b[38;5;124;43m.mat\u001b[39;49m\u001b[38;5;124;43m\"\u001b[39;49m\u001b[43m \u001b[49m\u001b[38;5;241;43m%\u001b[39;49m\u001b[43m \u001b[49m\u001b[43mAoA\u001b[49m\u001b[43m)\u001b[49m\n",
            "File \u001b[0;32m/lib/python3.10/site-packages/scipy/io/matlab/_mio.py:224\u001b[0m, in \u001b[0;36mloadmat\u001b[0;34m(file_name, mdict, appendmat, **kwargs)\u001b[0m\n\u001b[1;32m     87\u001b[0m \u001b[38;5;124;03m\"\"\"\u001b[39;00m\n\u001b[1;32m     88\u001b[0m \u001b[38;5;124;03mLoad MATLAB file.\u001b[39;00m\n\u001b[1;32m     89\u001b[0m \n\u001b[0;32m   (...)\u001b[0m\n\u001b[1;32m    221\u001b[0m \u001b[38;5;124;03m    3.14159265+3.14159265j])\u001b[39;00m\n\u001b[1;32m    222\u001b[0m \u001b[38;5;124;03m\"\"\"\u001b[39;00m\n\u001b[1;32m    223\u001b[0m variable_names \u001b[38;5;241m=\u001b[39m kwargs\u001b[38;5;241m.\u001b[39mpop(\u001b[38;5;124m'\u001b[39m\u001b[38;5;124mvariable_names\u001b[39m\u001b[38;5;124m'\u001b[39m, \u001b[38;5;28;01mNone\u001b[39;00m)\n\u001b[0;32m--> 224\u001b[0m \u001b[38;5;28;01mwith\u001b[39;00m _open_file_context(file_name, appendmat) \u001b[38;5;28;01mas\u001b[39;00m f:\n\u001b[1;32m    225\u001b[0m     MR, _ \u001b[38;5;241m=\u001b[39m mat_reader_factory(f, \u001b[38;5;241m*\u001b[39m\u001b[38;5;241m*\u001b[39mkwargs)\n\u001b[1;32m    226\u001b[0m     matfile_dict \u001b[38;5;241m=\u001b[39m MR\u001b[38;5;241m.\u001b[39mget_variables(variable_names)\n",
            "File \u001b[0;32m/lib/python3.10/contextlib.py:135\u001b[0m, in \u001b[0;36m_GeneratorContextManager.__enter__\u001b[0;34m(self)\u001b[0m\n\u001b[1;32m    133\u001b[0m \u001b[38;5;28;01mdel\u001b[39;00m \u001b[38;5;28mself\u001b[39m\u001b[38;5;241m.\u001b[39margs, \u001b[38;5;28mself\u001b[39m\u001b[38;5;241m.\u001b[39mkwds, \u001b[38;5;28mself\u001b[39m\u001b[38;5;241m.\u001b[39mfunc\n\u001b[1;32m    134\u001b[0m \u001b[38;5;28;01mtry\u001b[39;00m:\n\u001b[0;32m--> 135\u001b[0m     \u001b[38;5;28;01mreturn\u001b[39;00m \u001b[38;5;28;43mnext\u001b[39;49m\u001b[43m(\u001b[49m\u001b[38;5;28;43mself\u001b[39;49m\u001b[38;5;241;43m.\u001b[39;49m\u001b[43mgen\u001b[49m\u001b[43m)\u001b[49m\n\u001b[1;32m    136\u001b[0m \u001b[38;5;28;01mexcept\u001b[39;00m \u001b[38;5;167;01mStopIteration\u001b[39;00m:\n\u001b[1;32m    137\u001b[0m     \u001b[38;5;28;01mraise\u001b[39;00m \u001b[38;5;167;01mRuntimeError\u001b[39;00m(\u001b[38;5;124m\"\u001b[39m\u001b[38;5;124mgenerator didn\u001b[39m\u001b[38;5;124m'\u001b[39m\u001b[38;5;124mt yield\u001b[39m\u001b[38;5;124m\"\u001b[39m) \u001b[38;5;28;01mfrom\u001b[39;00m \u001b[38;5;28mNone\u001b[39m\n",
            "File \u001b[0;32m/lib/python3.10/site-packages/scipy/io/matlab/_mio.py:17\u001b[0m, in \u001b[0;36m_open_file_context\u001b[0;34m(file_like, appendmat, mode)\u001b[0m\n\u001b[1;32m     15\u001b[0m \u001b[38;5;129m@contextmanager\u001b[39m\n\u001b[1;32m     16\u001b[0m \u001b[38;5;28;01mdef\u001b[39;00m \u001b[38;5;21m_open_file_context\u001b[39m(file_like, appendmat, mode\u001b[38;5;241m=\u001b[39m\u001b[38;5;124m'\u001b[39m\u001b[38;5;124mrb\u001b[39m\u001b[38;5;124m'\u001b[39m):\n\u001b[0;32m---> 17\u001b[0m     f, opened \u001b[38;5;241m=\u001b[39m \u001b[43m_open_file\u001b[49m\u001b[43m(\u001b[49m\u001b[43mfile_like\u001b[49m\u001b[43m,\u001b[49m\u001b[43m \u001b[49m\u001b[43mappendmat\u001b[49m\u001b[43m,\u001b[49m\u001b[43m \u001b[49m\u001b[43mmode\u001b[49m\u001b[43m)\u001b[49m\n\u001b[1;32m     18\u001b[0m     \u001b[38;5;28;01mtry\u001b[39;00m:\n\u001b[1;32m     19\u001b[0m         \u001b[38;5;28;01myield\u001b[39;00m f\n",
            "File \u001b[0;32m/lib/python3.10/site-packages/scipy/io/matlab/_mio.py:45\u001b[0m, in \u001b[0;36m_open_file\u001b[0;34m(file_like, appendmat, mode)\u001b[0m\n\u001b[1;32m     43\u001b[0m     \u001b[38;5;28;01mif\u001b[39;00m appendmat \u001b[38;5;129;01mand\u001b[39;00m \u001b[38;5;129;01mnot\u001b[39;00m file_like\u001b[38;5;241m.\u001b[39mendswith(\u001b[38;5;124m'\u001b[39m\u001b[38;5;124m.mat\u001b[39m\u001b[38;5;124m'\u001b[39m):\n\u001b[1;32m     44\u001b[0m         file_like \u001b[38;5;241m+\u001b[39m\u001b[38;5;241m=\u001b[39m \u001b[38;5;124m'\u001b[39m\u001b[38;5;124m.mat\u001b[39m\u001b[38;5;124m'\u001b[39m\n\u001b[0;32m---> 45\u001b[0m     \u001b[38;5;28;01mreturn\u001b[39;00m \u001b[38;5;28;43mopen\u001b[39;49m\u001b[43m(\u001b[49m\u001b[43mfile_like\u001b[49m\u001b[43m,\u001b[49m\u001b[43m \u001b[49m\u001b[43mmode\u001b[49m\u001b[43m)\u001b[49m, \u001b[38;5;28;01mTrue\u001b[39;00m\n\u001b[1;32m     46\u001b[0m \u001b[38;5;28;01melse\u001b[39;00m:\n\u001b[1;32m     47\u001b[0m     \u001b[38;5;28;01mraise\u001b[39;00m \u001b[38;5;167;01mOSError\u001b[39;00m(\n\u001b[1;32m     48\u001b[0m         \u001b[38;5;124m'\u001b[39m\u001b[38;5;124mReader needs file name or open file-like object\u001b[39m\u001b[38;5;124m'\u001b[39m\n\u001b[1;32m     49\u001b[0m     ) \u001b[38;5;28;01mfrom\u001b[39;00m \u001b[38;5;21;01me\u001b[39;00m\n",
            "\u001b[0;31mFileNotFoundError\u001b[0m: [Errno 44] No such file or directory: 'airfoil-PIV-data/AoA=10.mat'"
          ],
          "output_type": "error"
        }
      ],
      "id": "ec8a4272"
    },
    {
      "cell_type": "markdown",
      "source": "The variable `mat` is simply a normal Python dictionary that contains a bunch of things. ",
      "metadata": {},
      "id": "8c2eeb0a"
    },
    {
      "cell_type": "code",
      "source": "mat",
      "metadata": {
        "tags": [],
        "trusted": true
      },
      "execution_count": 4,
      "outputs": [
        {
          "ename": "<class 'NameError'>",
          "evalue": "name 'mat' is not defined",
          "traceback": [
            "\u001b[0;31m---------------------------------------------------------------------------\u001b[0m",
            "\u001b[0;31mNameError\u001b[0m                                 Traceback (most recent call last)",
            "Cell \u001b[0;32mIn [4], line 1\u001b[0m\n\u001b[0;32m----> 1\u001b[0m \u001b[43mmat\u001b[49m\n",
            "\u001b[0;31mNameError\u001b[0m: name 'mat' is not defined"
          ],
          "output_type": "error"
        }
      ],
      "id": "5aa585d5"
    },
    {
      "cell_type": "markdown",
      "source": "Most of the values in the dictionary are NumPy arrays with data. The most important variables are the grid points `mat[\"x\"]` and `mat[\"y\"]` and the velocity data `mat[\"u\"]` and `mat[\"v\"]`, for the two velocity components.\n\nThe grid points are stored in 2D arrays:",
      "metadata": {},
      "id": "14924262"
    },
    {
      "cell_type": "code",
      "source": "mat[\"x\"].shape, mat[\"y\"].shape",
      "metadata": {
        "trusted": true
      },
      "execution_count": 5,
      "outputs": [
        {
          "ename": "<class 'NameError'>",
          "evalue": "name 'mat' is not defined",
          "traceback": [
            "\u001b[0;31m---------------------------------------------------------------------------\u001b[0m",
            "\u001b[0;31mNameError\u001b[0m                                 Traceback (most recent call last)",
            "Cell \u001b[0;32mIn [5], line 1\u001b[0m\n\u001b[0;32m----> 1\u001b[0m \u001b[43mmat\u001b[49m[\u001b[38;5;124m\"\u001b[39m\u001b[38;5;124mx\u001b[39m\u001b[38;5;124m\"\u001b[39m]\u001b[38;5;241m.\u001b[39mshape, mat[\u001b[38;5;124m\"\u001b[39m\u001b[38;5;124my\u001b[39m\u001b[38;5;124m\"\u001b[39m]\u001b[38;5;241m.\u001b[39mshape\n",
            "\u001b[0;31mNameError\u001b[0m: name 'mat' is not defined"
          ],
          "output_type": "error"
        }
      ],
      "id": "6b24cabc"
    },
    {
      "cell_type": "markdown",
      "source": "and we have `nx=176` points along the `x` axis (the streamwise direction) and `ny=46` points along the `y` axis (the transverse direction).\n\nFor the velocity components, we have 3D arrays:",
      "metadata": {},
      "id": "a0980c3e"
    },
    {
      "cell_type": "code",
      "source": "mat[\"u\"].shape, mat[\"v\"].shape",
      "metadata": {
        "trusted": true
      },
      "execution_count": 6,
      "outputs": [
        {
          "ename": "<class 'NameError'>",
          "evalue": "name 'mat' is not defined",
          "traceback": [
            "\u001b[0;31m---------------------------------------------------------------------------\u001b[0m",
            "\u001b[0;31mNameError\u001b[0m                                 Traceback (most recent call last)",
            "Cell \u001b[0;32mIn [6], line 1\u001b[0m\n\u001b[0;32m----> 1\u001b[0m \u001b[43mmat\u001b[49m[\u001b[38;5;124m\"\u001b[39m\u001b[38;5;124mu\u001b[39m\u001b[38;5;124m\"\u001b[39m]\u001b[38;5;241m.\u001b[39mshape, mat[\u001b[38;5;124m\"\u001b[39m\u001b[38;5;124mv\u001b[39m\u001b[38;5;124m\"\u001b[39m]\u001b[38;5;241m.\u001b[39mshape\n",
            "\u001b[0;31mNameError\u001b[0m: name 'mat' is not defined"
          ],
          "output_type": "error"
        }
      ],
      "id": "a7b15322"
    },
    {
      "cell_type": "markdown",
      "source": "where the first index is associated with time. More specifically, we have 3400 snapshots so `mat[\"u\"][0, :, :]` will be the `u` velocity field at time `t=0`, `mat[\"u\"][1, :, :]` will be the `u` velocity field at time `t=dt` and so on.\n\nThe data is time resolved and the time interval is:",
      "metadata": {},
      "id": "5676ee59"
    },
    {
      "cell_type": "code",
      "source": "mat[\"dt\"]",
      "metadata": {
        "trusted": true
      },
      "execution_count": 7,
      "outputs": [
        {
          "ename": "<class 'NameError'>",
          "evalue": "name 'mat' is not defined",
          "traceback": [
            "\u001b[0;31m---------------------------------------------------------------------------\u001b[0m",
            "\u001b[0;31mNameError\u001b[0m                                 Traceback (most recent call last)",
            "Cell \u001b[0;32mIn [7], line 1\u001b[0m\n\u001b[0;32m----> 1\u001b[0m \u001b[43mmat\u001b[49m[\u001b[38;5;124m\"\u001b[39m\u001b[38;5;124mdt\u001b[39m\u001b[38;5;124m\"\u001b[39m]\n",
            "\u001b[0;31mNameError\u001b[0m: name 'mat' is not defined"
          ],
          "output_type": "error"
        }
      ],
      "id": "65b51fba"
    },
    {
      "cell_type": "markdown",
      "source": "This is a small quantity, and shows that we need roughly 1/0.008 = 125 snapshots for a fluid particle to travel across the entire chord of the airfoil, at the external flow speed.\n\nNote that all these kinematic quantities have been normalised using the chord $c$ and the external velocity $u_\\infty$. \n\nLet's store some of these variables for later use.",
      "metadata": {},
      "id": "93d64390"
    },
    {
      "cell_type": "code",
      "source": "m, nx, ny = mat[\"u\"].shape",
      "metadata": {
        "trusted": true
      },
      "execution_count": 8,
      "outputs": [
        {
          "ename": "<class 'NameError'>",
          "evalue": "name 'mat' is not defined",
          "traceback": [
            "\u001b[0;31m---------------------------------------------------------------------------\u001b[0m",
            "\u001b[0;31mNameError\u001b[0m                                 Traceback (most recent call last)",
            "Cell \u001b[0;32mIn [8], line 1\u001b[0m\n\u001b[0;32m----> 1\u001b[0m m, nx, ny \u001b[38;5;241m=\u001b[39m \u001b[43mmat\u001b[49m[\u001b[38;5;124m\"\u001b[39m\u001b[38;5;124mu\u001b[39m\u001b[38;5;124m\"\u001b[39m]\u001b[38;5;241m.\u001b[39mshape\n",
            "\u001b[0;31mNameError\u001b[0m: name 'mat' is not defined"
          ],
          "output_type": "error"
        }
      ],
      "id": "a2287970"
    },
    {
      "cell_type": "markdown",
      "source": "### Task 1 - Visualising the data",
      "metadata": {},
      "id": "3d47552d"
    },
    {
      "cell_type": "markdown",
      "source": "We'll start by plotting one snapshot, so you can learn how to visualise this dataset. We'll plot the $u$ velocity component, using the `contourf` function and also plot vectors to visualise the velocity field using `quiver`. Here is how to do it.",
      "metadata": {},
      "id": "6211c9b6"
    },
    {
      "cell_type": "code",
      "source": "plt.figure(0)\nplt.clf()\n\n# plot contours from -1.5 to 1.5\nlevels = np.linspace(-1.5, 1.5, 20)\nplt.contourf(mat[\"x\"], mat[\"y\"], mat[\"u\"][10], levels, cmap=\"seismic\")\n\n# add colorbar\nplt.colorbar(shrink=0.25, ticks=[-1.5, 0, 1.5], label=\"$\\overline{u}/u_\\infty$\")\n\n# only plot one vector every three, to avoid crowding\nskip = 1\nplt.quiver(mat[\"x\"][::skip, ::skip], \n           mat[\"y\"][::skip, ::skip], \n           mat[\"u\"][0][::skip, ::skip], \n           mat[\"v\"][0][::skip, ::skip])\n\n# must set the aspect ratio to 1 for the x and y axis to have the same metric\nplt.gca().set_aspect(1)\n\n# always add labels\nplt.xlabel(\"x/c\")\nplt.ylabel(\"y/c\")\n\n# also plot the airfoil\nplot_airfoil(AoA)",
      "metadata": {
        "trusted": true
      },
      "execution_count": 9,
      "outputs": [
        {
          "ename": "<class 'ImportError'>",
          "evalue": "Failed to import any qt binding",
          "traceback": [
            "\u001b[0;31m---------------------------------------------------------------------------\u001b[0m",
            "\u001b[0;31mImportError\u001b[0m                               Traceback (most recent call last)",
            "Cell \u001b[0;32mIn [9], line 1\u001b[0m\n\u001b[0;32m----> 1\u001b[0m \u001b[43mplt\u001b[49m\u001b[38;5;241;43m.\u001b[39;49m\u001b[43mfigure\u001b[49m\u001b[43m(\u001b[49m\u001b[38;5;241;43m0\u001b[39;49m\u001b[43m)\u001b[49m\n\u001b[1;32m      2\u001b[0m plt\u001b[38;5;241m.\u001b[39mclf()\n\u001b[1;32m      4\u001b[0m \u001b[38;5;66;03m# plot contours from -1.5 to 1.5\u001b[39;00m\n",
            "File \u001b[0;32m/lib/python3.10/site-packages/matplotlib/pyplot.py:808\u001b[0m, in \u001b[0;36mfigure\u001b[0;34m(num, figsize, dpi, facecolor, edgecolor, frameon, FigureClass, clear, **kwargs)\u001b[0m\n\u001b[1;32m    799\u001b[0m \u001b[38;5;28;01mif\u001b[39;00m \u001b[38;5;28mlen\u001b[39m(allnums) \u001b[38;5;241m==\u001b[39m max_open_warning \u001b[38;5;241m>\u001b[39m\u001b[38;5;241m=\u001b[39m \u001b[38;5;241m1\u001b[39m:\n\u001b[1;32m    800\u001b[0m     _api\u001b[38;5;241m.\u001b[39mwarn_external(\n\u001b[1;32m    801\u001b[0m         \u001b[38;5;124mf\u001b[39m\u001b[38;5;124m\"\u001b[39m\u001b[38;5;124mMore than \u001b[39m\u001b[38;5;132;01m{\u001b[39;00mmax_open_warning\u001b[38;5;132;01m}\u001b[39;00m\u001b[38;5;124m figures have been opened. \u001b[39m\u001b[38;5;124m\"\u001b[39m\n\u001b[1;32m    802\u001b[0m         \u001b[38;5;124mf\u001b[39m\u001b[38;5;124m\"\u001b[39m\u001b[38;5;124mFigures created through the pyplot interface \u001b[39m\u001b[38;5;124m\"\u001b[39m\n\u001b[0;32m   (...)\u001b[0m\n\u001b[1;32m    805\u001b[0m         \u001b[38;5;124mf\u001b[39m\u001b[38;5;124m\"\u001b[39m\u001b[38;5;124mwarning, see the rcParam `figure.max_open_warning`).\u001b[39m\u001b[38;5;124m\"\u001b[39m,\n\u001b[1;32m    806\u001b[0m         \u001b[38;5;167;01mRuntimeWarning\u001b[39;00m)\n\u001b[0;32m--> 808\u001b[0m manager \u001b[38;5;241m=\u001b[39m new_figure_manager(\n\u001b[1;32m    809\u001b[0m     num, figsize\u001b[38;5;241m=\u001b[39mfigsize, dpi\u001b[38;5;241m=\u001b[39mdpi,\n\u001b[1;32m    810\u001b[0m     facecolor\u001b[38;5;241m=\u001b[39mfacecolor, edgecolor\u001b[38;5;241m=\u001b[39medgecolor, frameon\u001b[38;5;241m=\u001b[39mframeon,\n\u001b[1;32m    811\u001b[0m     FigureClass\u001b[38;5;241m=\u001b[39mFigureClass, \u001b[38;5;241m*\u001b[39m\u001b[38;5;241m*\u001b[39mkwargs)\n\u001b[1;32m    812\u001b[0m fig \u001b[38;5;241m=\u001b[39m manager\u001b[38;5;241m.\u001b[39mcanvas\u001b[38;5;241m.\u001b[39mfigure\n\u001b[1;32m    813\u001b[0m \u001b[38;5;28;01mif\u001b[39;00m fig_label:\n",
            "File \u001b[0;32m/lib/python3.10/site-packages/matplotlib/pyplot.py:326\u001b[0m, in \u001b[0;36mnew_figure_manager\u001b[0;34m(*args, **kwargs)\u001b[0m\n\u001b[1;32m    324\u001b[0m \u001b[38;5;28;01mdef\u001b[39;00m \u001b[38;5;21mnew_figure_manager\u001b[39m(\u001b[38;5;241m*\u001b[39margs, \u001b[38;5;241m*\u001b[39m\u001b[38;5;241m*\u001b[39mkwargs):\n\u001b[1;32m    325\u001b[0m     \u001b[38;5;124;03m\"\"\"Create a new figure manager instance.\"\"\"\u001b[39;00m\n\u001b[0;32m--> 326\u001b[0m     \u001b[43m_warn_if_gui_out_of_main_thread\u001b[49m\u001b[43m(\u001b[49m\u001b[43m)\u001b[49m\n\u001b[1;32m    327\u001b[0m     \u001b[38;5;28;01mreturn\u001b[39;00m _get_backend_mod()\u001b[38;5;241m.\u001b[39mnew_figure_manager(\u001b[38;5;241m*\u001b[39margs, \u001b[38;5;241m*\u001b[39m\u001b[38;5;241m*\u001b[39mkwargs)\n",
            "File \u001b[0;32m/lib/python3.10/site-packages/matplotlib/pyplot.py:316\u001b[0m, in \u001b[0;36m_warn_if_gui_out_of_main_thread\u001b[0;34m()\u001b[0m\n\u001b[1;32m    315\u001b[0m \u001b[38;5;28;01mdef\u001b[39;00m \u001b[38;5;21m_warn_if_gui_out_of_main_thread\u001b[39m():\n\u001b[0;32m--> 316\u001b[0m     \u001b[38;5;28;01mif\u001b[39;00m (_get_required_interactive_framework(\u001b[43m_get_backend_mod\u001b[49m\u001b[43m(\u001b[49m\u001b[43m)\u001b[49m)\n\u001b[1;32m    317\u001b[0m             \u001b[38;5;129;01mand\u001b[39;00m threading\u001b[38;5;241m.\u001b[39mcurrent_thread() \u001b[38;5;129;01mis\u001b[39;00m \u001b[38;5;129;01mnot\u001b[39;00m threading\u001b[38;5;241m.\u001b[39mmain_thread()):\n\u001b[1;32m    318\u001b[0m         _api\u001b[38;5;241m.\u001b[39mwarn_external(\n\u001b[1;32m    319\u001b[0m             \u001b[38;5;124m\"\u001b[39m\u001b[38;5;124mStarting a Matplotlib GUI outside of the main thread will likely \u001b[39m\u001b[38;5;124m\"\u001b[39m\n\u001b[1;32m    320\u001b[0m             \u001b[38;5;124m\"\u001b[39m\u001b[38;5;124mfail.\u001b[39m\u001b[38;5;124m\"\u001b[39m)\n",
            "File \u001b[0;32m/lib/python3.10/site-packages/matplotlib/pyplot.py:217\u001b[0m, in \u001b[0;36m_get_backend_mod\u001b[0;34m()\u001b[0m\n\u001b[1;32m    208\u001b[0m \u001b[38;5;124;03m\"\"\"\u001b[39;00m\n\u001b[1;32m    209\u001b[0m \u001b[38;5;124;03mEnsure that a backend is selected and return it.\u001b[39;00m\n\u001b[1;32m    210\u001b[0m \n\u001b[1;32m    211\u001b[0m \u001b[38;5;124;03mThis is currently private, but may be made public in the future.\u001b[39;00m\n\u001b[1;32m    212\u001b[0m \u001b[38;5;124;03m\"\"\"\u001b[39;00m\n\u001b[1;32m    213\u001b[0m \u001b[38;5;28;01mif\u001b[39;00m _backend_mod \u001b[38;5;129;01mis\u001b[39;00m \u001b[38;5;28;01mNone\u001b[39;00m:\n\u001b[1;32m    214\u001b[0m     \u001b[38;5;66;03m# Use __getitem__ here to avoid going through the fallback logic (which\u001b[39;00m\n\u001b[1;32m    215\u001b[0m     \u001b[38;5;66;03m# will (re)import pyplot and then call switch_backend if we need to\u001b[39;00m\n\u001b[1;32m    216\u001b[0m     \u001b[38;5;66;03m# resolve the auto sentinel)\u001b[39;00m\n\u001b[0;32m--> 217\u001b[0m     \u001b[43mswitch_backend\u001b[49m\u001b[43m(\u001b[49m\u001b[38;5;28;43mdict\u001b[39;49m\u001b[38;5;241;43m.\u001b[39;49m\u001b[38;5;21;43m__getitem__\u001b[39;49m\u001b[43m(\u001b[49m\u001b[43mrcParams\u001b[49m\u001b[43m,\u001b[49m\u001b[43m \u001b[49m\u001b[38;5;124;43m\"\u001b[39;49m\u001b[38;5;124;43mbackend\u001b[39;49m\u001b[38;5;124;43m\"\u001b[39;49m\u001b[43m)\u001b[49m\u001b[43m)\u001b[49m\n\u001b[1;32m    218\u001b[0m     \u001b[38;5;66;03m# Just to be safe.  Interactive mode can be turned on without calling\u001b[39;00m\n\u001b[1;32m    219\u001b[0m     \u001b[38;5;66;03m# `plt.ion()` so register it again here.  This is safe because multiple\u001b[39;00m\n\u001b[1;32m    220\u001b[0m     \u001b[38;5;66;03m# calls to `install_repl_displayhook` are no-ops and the registered\u001b[39;00m\n\u001b[1;32m    221\u001b[0m     \u001b[38;5;66;03m# function respects `mpl.is_interactive()` to determine if it should\u001b[39;00m\n\u001b[1;32m    222\u001b[0m     \u001b[38;5;66;03m# trigger a draw.\u001b[39;00m\n\u001b[1;32m    223\u001b[0m     install_repl_displayhook()\n",
            "File \u001b[0;32m/lib/python3.10/site-packages/matplotlib/pyplot.py:288\u001b[0m, in \u001b[0;36mswitch_backend\u001b[0;34m(newbackend)\u001b[0m\n\u001b[1;32m    281\u001b[0m \u001b[38;5;66;03m# Backends are implemented as modules, but \"inherit\" default method\u001b[39;00m\n\u001b[1;32m    282\u001b[0m \u001b[38;5;66;03m# implementations from backend_bases._Backend.  This is achieved by\u001b[39;00m\n\u001b[1;32m    283\u001b[0m \u001b[38;5;66;03m# creating a \"class\" that inherits from backend_bases._Backend and whose\u001b[39;00m\n\u001b[1;32m    284\u001b[0m \u001b[38;5;66;03m# body is filled with the module's globals.\u001b[39;00m\n\u001b[1;32m    286\u001b[0m backend_name \u001b[38;5;241m=\u001b[39m cbook\u001b[38;5;241m.\u001b[39m_backend_module_name(newbackend)\n\u001b[0;32m--> 288\u001b[0m \u001b[38;5;28;01mclass\u001b[39;00m \u001b[38;5;21;01mbackend_mod\u001b[39;00m(matplotlib\u001b[38;5;241m.\u001b[39mbackend_bases\u001b[38;5;241m.\u001b[39m_Backend):\n\u001b[1;32m    289\u001b[0m     \u001b[38;5;28mlocals\u001b[39m()\u001b[38;5;241m.\u001b[39mupdate(\u001b[38;5;28mvars\u001b[39m(importlib\u001b[38;5;241m.\u001b[39mimport_module(backend_name)))\n\u001b[1;32m    291\u001b[0m required_framework \u001b[38;5;241m=\u001b[39m _get_required_interactive_framework(backend_mod)\n",
            "File \u001b[0;32m/lib/python3.10/site-packages/matplotlib/pyplot.py:289\u001b[0m, in \u001b[0;36mswitch_backend.<locals>.backend_mod\u001b[0;34m()\u001b[0m\n\u001b[1;32m    288\u001b[0m \u001b[38;5;28;01mclass\u001b[39;00m \u001b[38;5;21;01mbackend_mod\u001b[39;00m(matplotlib\u001b[38;5;241m.\u001b[39mbackend_bases\u001b[38;5;241m.\u001b[39m_Backend):\n\u001b[0;32m--> 289\u001b[0m     \u001b[38;5;28mlocals\u001b[39m()\u001b[38;5;241m.\u001b[39mupdate(\u001b[38;5;28mvars\u001b[39m(\u001b[43mimportlib\u001b[49m\u001b[38;5;241;43m.\u001b[39;49m\u001b[43mimport_module\u001b[49m\u001b[43m(\u001b[49m\u001b[43mbackend_name\u001b[49m\u001b[43m)\u001b[49m))\n",
            "File \u001b[0;32m/lib/python3.10/importlib/__init__.py:126\u001b[0m, in \u001b[0;36mimport_module\u001b[0;34m(name, package)\u001b[0m\n\u001b[1;32m    124\u001b[0m             \u001b[38;5;28;01mbreak\u001b[39;00m\n\u001b[1;32m    125\u001b[0m         level \u001b[38;5;241m+\u001b[39m\u001b[38;5;241m=\u001b[39m \u001b[38;5;241m1\u001b[39m\n\u001b[0;32m--> 126\u001b[0m \u001b[38;5;28;01mreturn\u001b[39;00m \u001b[43m_bootstrap\u001b[49m\u001b[38;5;241;43m.\u001b[39;49m\u001b[43m_gcd_import\u001b[49m\u001b[43m(\u001b[49m\u001b[43mname\u001b[49m\u001b[43m[\u001b[49m\u001b[43mlevel\u001b[49m\u001b[43m:\u001b[49m\u001b[43m]\u001b[49m\u001b[43m,\u001b[49m\u001b[43m \u001b[49m\u001b[43mpackage\u001b[49m\u001b[43m,\u001b[49m\u001b[43m \u001b[49m\u001b[43mlevel\u001b[49m\u001b[43m)\u001b[49m\n",
            "File \u001b[0;32m<frozen importlib._bootstrap>:1050\u001b[0m, in \u001b[0;36m_gcd_import\u001b[0;34m(name, package, level)\u001b[0m\n",
            "File \u001b[0;32m<frozen importlib._bootstrap>:1027\u001b[0m, in \u001b[0;36m_find_and_load\u001b[0;34m(name, import_)\u001b[0m\n",
            "File \u001b[0;32m<frozen importlib._bootstrap>:1006\u001b[0m, in \u001b[0;36m_find_and_load_unlocked\u001b[0;34m(name, import_)\u001b[0m\n",
            "File \u001b[0;32m<frozen importlib._bootstrap>:688\u001b[0m, in \u001b[0;36m_load_unlocked\u001b[0;34m(spec)\u001b[0m\n",
            "File \u001b[0;32m<frozen importlib._bootstrap_external>:883\u001b[0m, in \u001b[0;36mexec_module\u001b[0;34m(self, module)\u001b[0m\n",
            "File \u001b[0;32m<frozen importlib._bootstrap>:241\u001b[0m, in \u001b[0;36m_call_with_frames_removed\u001b[0;34m(f, *args, **kwds)\u001b[0m\n",
            "File \u001b[0;32m/lib/python3.10/site-packages/matplotlib/backends/backend_qt5agg.py:7\u001b[0m\n\u001b[1;32m      4\u001b[0m \u001b[38;5;28;01mfrom\u001b[39;00m \u001b[38;5;21;01m.\u001b[39;00m\u001b[38;5;21;01m.\u001b[39;00m \u001b[38;5;28;01mimport\u001b[39;00m backends\n\u001b[1;32m      6\u001b[0m backends\u001b[38;5;241m.\u001b[39m_QT_FORCE_QT5_BINDING \u001b[38;5;241m=\u001b[39m \u001b[38;5;28;01mTrue\u001b[39;00m\n\u001b[0;32m----> 7\u001b[0m \u001b[38;5;28;01mfrom\u001b[39;00m \u001b[38;5;21;01m.\u001b[39;00m\u001b[38;5;21;01mbackend_qtagg\u001b[39;00m \u001b[38;5;28;01mimport\u001b[39;00m (    \u001b[38;5;66;03m# noqa: F401, E402 # pylint: disable=W0611\u001b[39;00m\n\u001b[1;32m      8\u001b[0m     _BackendQTAgg, FigureCanvasQTAgg, FigureManagerQT, NavigationToolbar2QT,\n\u001b[1;32m      9\u001b[0m     backend_version,  FigureCanvasAgg,  FigureCanvasQT\n\u001b[1;32m     10\u001b[0m )\n\u001b[1;32m     13\u001b[0m \u001b[38;5;129m@_BackendQTAgg\u001b[39m\u001b[38;5;241m.\u001b[39mexport\n\u001b[1;32m     14\u001b[0m \u001b[38;5;28;01mclass\u001b[39;00m \u001b[38;5;21;01m_BackendQT5Agg\u001b[39;00m(_BackendQTAgg):\n\u001b[1;32m     15\u001b[0m     \u001b[38;5;28;01mpass\u001b[39;00m\n",
            "File \u001b[0;32m/lib/python3.10/site-packages/matplotlib/backends/backend_qtagg.py:9\u001b[0m\n\u001b[1;32m      5\u001b[0m \u001b[38;5;28;01mimport\u001b[39;00m \u001b[38;5;21;01mctypes\u001b[39;00m\n\u001b[1;32m      7\u001b[0m \u001b[38;5;28;01mfrom\u001b[39;00m \u001b[38;5;21;01mmatplotlib\u001b[39;00m\u001b[38;5;21;01m.\u001b[39;00m\u001b[38;5;21;01mtransforms\u001b[39;00m \u001b[38;5;28;01mimport\u001b[39;00m Bbox\n\u001b[0;32m----> 9\u001b[0m \u001b[38;5;28;01mfrom\u001b[39;00m \u001b[38;5;21;01m.\u001b[39;00m\u001b[38;5;21;01mqt_compat\u001b[39;00m \u001b[38;5;28;01mimport\u001b[39;00m QT_API, _enum, _setDevicePixelRatio\n\u001b[1;32m     10\u001b[0m \u001b[38;5;28;01mfrom\u001b[39;00m \u001b[38;5;21;01m.\u001b[39;00m\u001b[38;5;21;01m.\u001b[39;00m \u001b[38;5;28;01mimport\u001b[39;00m cbook\n\u001b[1;32m     11\u001b[0m \u001b[38;5;28;01mfrom\u001b[39;00m \u001b[38;5;21;01m.\u001b[39;00m\u001b[38;5;21;01mbackend_agg\u001b[39;00m \u001b[38;5;28;01mimport\u001b[39;00m FigureCanvasAgg\n",
            "File \u001b[0;32m/lib/python3.10/site-packages/matplotlib/backends/qt_compat.py:142\u001b[0m\n\u001b[1;32m    140\u001b[0m         \u001b[38;5;28;01mbreak\u001b[39;00m\n\u001b[1;32m    141\u001b[0m     \u001b[38;5;28;01melse\u001b[39;00m:\n\u001b[0;32m--> 142\u001b[0m         \u001b[38;5;28;01mraise\u001b[39;00m \u001b[38;5;167;01mImportError\u001b[39;00m(\u001b[38;5;124m\"\u001b[39m\u001b[38;5;124mFailed to import any qt binding\u001b[39m\u001b[38;5;124m\"\u001b[39m)\n\u001b[1;32m    143\u001b[0m \u001b[38;5;28;01melse\u001b[39;00m:  \u001b[38;5;66;03m# We should not get there.\u001b[39;00m\n\u001b[1;32m    144\u001b[0m     \u001b[38;5;28;01mraise\u001b[39;00m \u001b[38;5;167;01mAssertionError\u001b[39;00m(\u001b[38;5;124mf\u001b[39m\u001b[38;5;124m\"\u001b[39m\u001b[38;5;124mUnexpected QT_API: \u001b[39m\u001b[38;5;132;01m{\u001b[39;00mQT_API\u001b[38;5;132;01m}\u001b[39;00m\u001b[38;5;124m\"\u001b[39m)\n",
            "\u001b[0;31mImportError\u001b[0m: Failed to import any qt binding"
          ],
          "output_type": "error"
        }
      ],
      "id": "092625e9"
    },
    {
      "cell_type": "markdown",
      "source": "Note all the elements of the plot (colorbar, labels, etc) and make sure you use a similar style for your coursework. Note also the white area near the airfoil: this is where we do not have data and the array simply contain a bunch of zeros in this area. This is standard in experiments!",
      "metadata": {},
      "id": "a2eb0bf8"
    },
    {
      "cell_type": "markdown",
      "source": "Since the data is time resolved, we can create a little movie to get a first grasp of this flow. Note that I am using `plt.pause` (this has been tested on a mac computer, but it should work on windows too). I am plotting one every 20 snapshots of the first 1000 snapshots, to ensure the video proceeds at a decent speed. I am plotting contours of the $u$ and $v$ velocities.",
      "metadata": {},
      "id": "509506a5"
    },
    {
      "cell_type": "code",
      "source": "plt.figure(1, figsize=(7, 5))\nplt.subplots_adjust(top=0.96, hspace=0.1, bottom=0.05, right=0.99)\nplt.clf()\n\nlevels = np.linspace(-1.5, 1.5, 30)\n\nfor it in range(0, 200, 5):\n    # need to clear the figure before every loop iteration\n    plt.clf()\n\n    plt.subplot(211)\n    plt.contourf(mat[\"x\"], mat[\"y\"], mat[\"u\"][it], levels, cmap=\"seismic\")\n    plt.gca().set_aspect(1)\n    plt.colorbar(shrink=0.5, ticks=[-1.5, 0, 1.5], label=\"$\\\\overline{u}/u_\\infty$\")\n    plt.xlabel(\"x/c\")\n    plt.ylabel(\"y/c\")\n    plot_airfoil(AoA)\n\n    plt.subplot(212)\n    plt.contourf(mat[\"x\"], mat[\"y\"], mat[\"v\"][it], levels, cmap=\"seismic\")\n    plt.gca().set_aspect(1)\n    plt.colorbar(shrink=0.5, ticks=[-1.5, 0, 1.5], label=\"$\\\\overline{v}/u_\\infty$\")\n    plt.xlabel(\"x/c\")\n    plt.ylabel(\"y/c\")\n    plot_airfoil(AoA)\n    \n    plt.pause(0.001)",
      "metadata": {},
      "execution_count": null,
      "outputs": [],
      "id": "fac4e5e7"
    },
    {
      "cell_type": "markdown",
      "source": "Good, now we need to compute time averaged quantities. We'll use the function `np.mean`, noting that we pass the extra argument `axis=0` to tell numpy to average over the first dimension of the array, i.e. along the data axis. ",
      "metadata": {},
      "id": "5d1b57ad"
    },
    {
      "cell_type": "code",
      "source": "# compute mean flow\nu_bar = np.mean(mat[\"u\"], axis=0)\nv_bar = np.mean(mat[\"v\"], axis=0)",
      "metadata": {},
      "execution_count": null,
      "outputs": [],
      "id": "fd292649"
    },
    {
      "cell_type": "markdown",
      "source": "Let's check the shape of `u_bar`:",
      "metadata": {},
      "id": "a7b94a85"
    },
    {
      "cell_type": "code",
      "source": "u_bar.shape",
      "metadata": {},
      "execution_count": null,
      "outputs": [],
      "id": "47bf5127"
    },
    {
      "cell_type": "markdown",
      "source": "The output is a 2D array with size `nx, ny`, i.e. as any other snapshot. This is because the function `np.mean` has averaged over the first dimension of the 3D array  `mat[\"u\"]`, squeezing the temporal dimension away. This approach is very powerful when you have data organised in arrays, like in the present case.\n\nWe should also compute turbulence quantities, e.g the Reynolds stresses. The NumPy function `np.var` does exactly what we need, i.e. it computes the averaged squared deviation from the mean. This is exactly the energy of the fluctuations that we will try to capture using POD structures. Hence, developing a feeling for where fluctuations are more energetic will helps us later on with the interpretation of the POD modes.",
      "metadata": {},
      "id": "a303c27e"
    },
    {
      "cell_type": "code",
      "source": "# compute turbulent quantiies\nu_var = np.var(mat[\"u\"], axis=0)\nv_var = np.var(mat[\"v\"], axis=0)",
      "metadata": {},
      "execution_count": null,
      "outputs": [],
      "id": "5dd37433"
    },
    {
      "cell_type": "markdown",
      "source": "Let's now plot these four variables.",
      "metadata": {},
      "id": "b505c2d0"
    },
    {
      "cell_type": "code",
      "source": "plt.figure(2, figsize=(7, 8))\nplt.subplots_adjust(top=0.96, hspace=0.1, bottom=0.05, right=0.99)\nplt.clf()\n\nplt.subplot(411)\nlevels = np.linspace(-1.5, 1.5, 50)\nplt.contourf(mat[\"x\"], mat[\"y\"], u_bar, levels, cmap=\"seismic\")\nplt.gca().set_aspect(1)\nplt.colorbar(shrink=0.65, ticks=[-1.5, 0, 1.5], label=\"$\\\\overline{u}/u_\\infty$\")\nplt.xlabel(\"x/c\")\nplt.ylabel(\"y/c\")\nplot_airfoil(AoA)\n\nplt.subplot(412)\nlevels = np.linspace(-0.5, 0.5, 50)\nplt.contourf(mat[\"x\"], mat[\"y\"], v_bar, levels, cmap=\"seismic\")\nplt.gca().set_aspect(1)\nplt.colorbar(shrink=0.65, ticks=[-0.5, 0, 0.5], label=\"$\\\\overline{v}/u_\\infty$\")\nplt.xlabel(\"x/c\")\nplt.ylabel(\"y/c\")\nplot_airfoil(AoA)\n\nplt.subplot(413)\nplt.contourf(mat[\"x\"], mat[\"y\"], u_var, 20, cmap=\"magma_r\")\nplt.gca().set_aspect(1)\nplt.gca().set_aspect(1)\nplt.colorbar(shrink=0.65, ticks=[0, 0.05, 0.1], label=\"$\\\\overline{u^\\prime u^\\prime}/u_\\infty^2$\")\nplt.xlabel(\"x/c\")\nplt.ylabel(\"y/c\")\nplot_airfoil(AoA)\n\nplt.subplot(414)\nplt.contourf(mat[\"x\"], mat[\"y\"], v_var, 20, cmap=\"magma_r\")\nplt.gca().set_aspect(1)\nplt.gca().set_aspect(1)\nplt.colorbar(shrink=0.65, ticks=[0, 0.05, 0.1], label=\"$\\\\overline{v^\\prime v^\\prime}/u_\\infty^2$\")\nplt.xlabel(\"x/c\")\nplt.ylabel(\"y/c\")\nplot_airfoil(AoA)",
      "metadata": {},
      "execution_count": null,
      "outputs": [],
      "id": "5f77bbd8"
    },
    {
      "cell_type": "markdown",
      "source": "Can you make sense of these fields? Can you spot the wake? Does the field of the transverse velocity component make sense to you? What about the turbulence statistics? Go back and watch the animation to develop a better understanding of this flow.",
      "metadata": {},
      "id": "36f04919"
    },
    {
      "cell_type": "markdown",
      "source": "### Task 2 - Data preparation",
      "metadata": {},
      "id": "d24d0116"
    },
    {
      "cell_type": "markdown",
      "source": "To perform POD with the SVD we need to massage the data in a format suitable for the SVD function. Each snapshot needs to be reshaped as a column vector and all snapshots have to be stacked horizontally one next to the other. In addition, the $v$ velocity component data will have to be stacked below the $u$ component data. We have $m$ snapshots of size $nx \\times ny$, so the data matrix `X` will need to have size $ (2 n_x  n_y) \\times m$.\n\nTo do this, you can use a combination of the functions `np.reshape`, `np.hstack` and `np.vstack`. Check their documentation online and sketch on a piece of paper how you think the data will be structured.",
      "metadata": {},
      "id": "b945910a"
    },
    {
      "cell_type": "code",
      "source": "# TASK: transform all snapshots into column vectors (reshape), pack them one next to the \n#       other (hstack) and pack the two velocity components one on top of the other (vstack)\n#\n# X = \nX = np.vstack( (np.hstack([np.reshape(mat[\"u\"][i], (nx*ny, 1)) for i in range(m)]),\n                np.hstack([np.reshape(mat[\"v\"][i], (-1, 1)) for i in range(m)])) )",
      "metadata": {},
      "execution_count": null,
      "outputs": [],
      "id": "4a3e4318"
    },
    {
      "cell_type": "markdown",
      "source": "If your code is correct, the following assert statements must pass without raising errors.",
      "metadata": {},
      "id": "6a637487"
    },
    {
      "cell_type": "code",
      "source": "assert X.shape   == (16192, 3400)\nassert X[1, 1]   == 1.0093801585989954\nassert X[-1, -1] == 0.06814444533965798",
      "metadata": {},
      "execution_count": null,
      "outputs": [],
      "id": "53d23855"
    },
    {
      "cell_type": "markdown",
      "source": "The data matrix is quite large and has size `(16192, 3400)`. Let's try to plot it as if it was an image (remember what we said about the SVD in the previous weeks). ",
      "metadata": {},
      "id": "1cd3b2c1"
    },
    {
      "cell_type": "code",
      "source": "plt.figure(3)\nplt.clf()\n\nplt.imshow(X, interpolation=\"none\", cmap=\"seismic\");\nplt.xlabel(\"time\")\nplt.ylabel(\"space\")",
      "metadata": {},
      "execution_count": null,
      "outputs": [],
      "id": "e89c4bb0"
    },
    {
      "cell_type": "markdown",
      "source": "Note that we have spatial information along the rows (for the $u$ and $v$ components) and temporal information along the columns. Zoom in to see the structure in the data. There is quite a bit of regular behaviour, and many columns look similar. Good! this means that the same data can be represented by a low-rank expansion, the POD! \n\nLet's now transform the mean flow into a column vector. Write code similar to what you have done a few cells above to reshape the mean flow components `u_bar` and `v_bar` into a column vector `x_bar`.",
      "metadata": {},
      "id": "f1270aed"
    },
    {
      "cell_type": "code",
      "source": "# TASK: transform mean flow into a vector\n# x_bar = \n# x_bar = np.vstack( (np.reshape(u_bar, (-1, 1)), np.reshape(v_bar, (-1, 1))) )\nx_bar = np.reshape(np.mean(X, axis=1), (-1, 1))",
      "metadata": {},
      "execution_count": null,
      "outputs": [],
      "id": "5fbd577b"
    },
    {
      "cell_type": "markdown",
      "source": "Now we can compute the fluctuations. We can simply subtract `x_bar` from `X`, even if their shapes do not match because of a feature of NumPy called [broadcasting](https://numpy.org/doc/stable/user/basics.broadcasting.html).\n\nWe obtain",
      "metadata": {},
      "id": "ff00b234"
    },
    {
      "cell_type": "code",
      "source": "# compute fluctuation\nXp = X - x_bar",
      "metadata": {},
      "execution_count": null,
      "outputs": [],
      "id": "a6aa3db2"
    },
    {
      "cell_type": "markdown",
      "source": "where `p` stands for \"prime\". Check the shape of `Xp` - does it make sense to you?",
      "metadata": {},
      "id": "2ec4b965"
    },
    {
      "cell_type": "markdown",
      "source": "### Task 3 - Performing POD",
      "metadata": {},
      "id": "1a3297a0"
    },
    {
      "cell_type": "markdown",
      "source": "To perform POD we need to first think about what the correct inner product is based on the data we have. PIV data is almost always available on a uniform mesh of square or rectangular cells, and each velocity vector represents the average velocity over the cell. Let's check the grid using the function `np.diff`. This can be used to compute the grid spacing, in both the `x` and `y` directions.",
      "metadata": {},
      "id": "44cfdf7a"
    },
    {
      "cell_type": "code",
      "source": "np.diff(mat[\"x\"], axis=0)",
      "metadata": {},
      "execution_count": null,
      "outputs": [],
      "id": "b48967e4"
    },
    {
      "cell_type": "code",
      "source": "np.diff(mat[\"y\"], axis=1)",
      "metadata": {},
      "execution_count": null,
      "outputs": [],
      "id": "2cf418b6"
    },
    {
      "cell_type": "markdown",
      "source": "We see that the grid is indeed uniform with square cells with area $A_c = 0.02032577^2$. ",
      "metadata": {},
      "id": "00eef0b3"
    },
    {
      "cell_type": "code",
      "source": "A_c = 0.02032577**2",
      "metadata": {},
      "execution_count": null,
      "outputs": [],
      "id": "bc5f0a34"
    },
    {
      "cell_type": "markdown",
      "source": "In this case we probably do not need to worry much about modying the SVD algorithm as all cells contribute equally to the evaluation of integrals. The practical consequence of this is that the POD modes and modal energies would be off by a constant factor. This is not so important in this case, because a) for the POD modes we care about their spatial structure, and not their amplitude and b) for the modal energies we care about their relative importance, e.g. when we plot the relative information content.\n\nIn any case, we'll use the correct algorithm, just to make some practice.",
      "metadata": {},
      "id": "384d52ff"
    },
    {
      "cell_type": "markdown",
      "source": "We will use the `sparse` package from `scipy`, as it contains some classes for storing a large diagonal matrix very efficiently, i.e. not using a dense matrix, but only storing the nonzero elements. You can read more about the topic [https://en.wikipedia.org/wiki/Sparse_matrix](here).\n\nLet's import the package",
      "metadata": {},
      "id": "d86cdcb9"
    },
    {
      "cell_type": "code",
      "source": "import scipy.sparse as ssp",
      "metadata": {},
      "execution_count": null,
      "outputs": [],
      "id": "deb13631"
    },
    {
      "cell_type": "markdown",
      "source": "and let's create the mass matrix.",
      "metadata": {},
      "id": "c73e7118"
    },
    {
      "cell_type": "code",
      "source": "W = ssp.diags( np.repeat(A_c, 2*nx*ny) )",
      "metadata": {},
      "execution_count": null,
      "outputs": [],
      "id": "797baf4e"
    },
    {
      "cell_type": "markdown",
      "source": "Note how the size of this matrix is twice the number of grid points, becase a snapshot vector contains both the $u$ and $v$ components. \n\nHow would we use this? Well, let's compute the norm of one of the snapshots",
      "metadata": {},
      "id": "76dc15b2"
    },
    {
      "cell_type": "code",
      "source": "X[:, 0].T @ W @ X[:, 0]",
      "metadata": {},
      "execution_count": null,
      "outputs": [],
      "id": "e76bfbf0"
    },
    {
      "cell_type": "markdown",
      "source": "For the full algorithm, we need to form the Choleski factor, and its inverse for solving for the POD modes. Again, we use `diags` and just compute the decomposition manually since `W` is diagonal.",
      "metadata": {},
      "id": "fdea1888"
    },
    {
      "cell_type": "code",
      "source": "# compute factor of the Cholesky decomposition\nL = ssp.diags(np.repeat(A_c, 2*nx*ny)**0.5)\n\n# and its inverse\nLinv = ssp.diags(1/np.repeat(A_c, 2*nx*ny)**0.5)",
      "metadata": {},
      "execution_count": null,
      "outputs": [],
      "id": "576350a7"
    },
    {
      "cell_type": "markdown",
      "source": "In the next cell, you should take the SVD and compute singular vectors/values. Remember that you very likely want the economy SVD.",
      "metadata": {},
      "id": "114896b6"
    },
    {
      "cell_type": "code",
      "source": "# TASK: compute the svd of an appropriate matrix\nU, S, VT = np.linalg.svd(L.T @ Xp, full_matrices=False)",
      "metadata": {},
      "execution_count": null,
      "outputs": [],
      "id": "0d93797b"
    },
    {
      "cell_type": "markdown",
      "source": "Running the SVD for such a large matrix takes a bit. Let's examine the shape of the outputs. Let's start with the right singular vectors `U`",
      "metadata": {},
      "id": "974ce42a"
    },
    {
      "cell_type": "code",
      "source": "U.shape",
      "metadata": {},
      "execution_count": null,
      "outputs": [],
      "id": "c4613815"
    },
    {
      "cell_type": "markdown",
      "source": "The data is organised exactly as the data matrix `Xp`, i.e. we have space (and velocity components along the rows) and modal index along the columns.",
      "metadata": {},
      "id": "0b483ac4"
    },
    {
      "cell_type": "code",
      "source": "S",
      "metadata": {},
      "execution_count": null,
      "outputs": [],
      "id": "b8b9b611"
    },
    {
      "cell_type": "markdown",
      "source": "`S` is a 1D array. It will be convenient to transform this into a matrix later on. \n\nThe array `VT` contains the right singular vectors in each of its rows. The function `np.linalg.svd` returns it transposed by default, so make sure you understand how the data in this array is structured.\n\n\nLet's now construct the POD modes, temporal coefficients and modal energies. For the POD modes, note that",
      "metadata": {},
      "id": "5efaec0e"
    },
    {
      "cell_type": "code",
      "source": "PHI = Linv.T @ U",
      "metadata": {},
      "execution_count": null,
      "outputs": [],
      "id": "aa68d6c2"
    },
    {
      "cell_type": "code",
      "source": "PHI.shape",
      "metadata": {},
      "execution_count": null,
      "outputs": [],
      "id": "a63bf923"
    },
    {
      "cell_type": "markdown",
      "source": "These modes should be orthogonal and have unit norm. Let's try subtracting the identity matrix from the product of the modes with themselves",
      "metadata": {},
      "id": "5d601087"
    },
    {
      "cell_type": "code",
      "source": "np.linalg.norm(PHI.T @ W @ PHI - ssp.diags(np.ones(m)))",
      "metadata": {},
      "execution_count": null,
      "outputs": [],
      "id": "4695976e"
    },
    {
      "cell_type": "markdown",
      "source": "OK!",
      "metadata": {},
      "id": "dcaa2f0e"
    },
    {
      "cell_type": "markdown",
      "source": "Finally, we \"unpack\" the $u$ and $v$ components of the POD, simply by splitting in half the rows of `PHI`:",
      "metadata": {},
      "id": "56b8cedb"
    },
    {
      "cell_type": "code",
      "source": "PHI_u = PHI[:nx*ny, :]\nPHI_v = PHI[nx*ny:, :]",
      "metadata": {},
      "execution_count": null,
      "outputs": [],
      "id": "52c9b4b2"
    },
    {
      "cell_type": "markdown",
      "source": "Note how the top half is the $u$ component of the POD mode and the bottom half is the $v$ component, exactly how we packed the data few cells above here.",
      "metadata": {},
      "id": "58325976"
    },
    {
      "cell_type": "markdown",
      "source": "Let's now obtain the temporal coefficients. I will obtain them from projecting the snapshots onto the POD modes. For the projection, I am using the mass matrix, so that I computing the correct inner product:",
      "metadata": {},
      "id": "844b7052"
    },
    {
      "cell_type": "code",
      "source": "A = Xp.T @ W @ PHI",
      "metadata": {},
      "execution_count": null,
      "outputs": [],
      "id": "549d2c26"
    },
    {
      "cell_type": "markdown",
      "source": "Let's compute the modal energies",
      "metadata": {},
      "id": "d99fe906"
    },
    {
      "cell_type": "code",
      "source": "# get modal energies\nlambdas = S**2 / m",
      "metadata": {},
      "execution_count": null,
      "outputs": [],
      "id": "07d31d98"
    },
    {
      "cell_type": "markdown",
      "source": "In the following cells, you should define a function to compute the relative information content from the modal energies and then plot the modal energies and the RIC metric. Use log scales when appropriate. You might wish to use the functions `np.cumsum` and `sum`.",
      "metadata": {},
      "id": "015e16c2"
    },
    {
      "cell_type": "code",
      "source": "# TASK define a function to compute the RIC\ndef ric(lambdas):\n    \"\"\" Compute relative information content from the modal energies \"\"\"\n    return np.cumsum(lambdas)/sum(lambdas)",
      "metadata": {},
      "execution_count": null,
      "outputs": [],
      "id": "46d0829c"
    },
    {
      "cell_type": "code",
      "source": "fig = plt.figure(4)\nplt.subplots_adjust(wspace=0.35)\nplt.clf()\n\n# array for plotting starting from 1\ni_or_k = np.arange(len(lambdas)) + 1\n\nplt.subplot(121)\nplt.plot(i_or_k, lambdas, \".\")\nplt.ylim(1e-8, 1e-2)\nplt.grid(1)\nplt.xlabel(\"i\")\nplt.ylabel(\"$\\lambda_i$\")\nplt.yscale(\"log\")\n\nplt.subplot(122)\nplt.plot(i_or_k, ric(lambdas), \".\")\nplt.xlabel(\"k\")\nplt.ylabel(\"RIC(k)\")\nplt.grid(1)",
      "metadata": {},
      "execution_count": null,
      "outputs": [],
      "id": "2c037a0b"
    },
    {
      "cell_type": "markdown",
      "source": "The modal energies drop quite fast, but it takes 130 modes to capture 90% of the energy in the data. In you spare time, you should compare the modal energies of the two datasets, for angle or attack of 0 and 10 degrees. This will give you some insight into the complexity of the two flows.",
      "metadata": {},
      "id": "606c0758"
    },
    {
      "cell_type": "markdown",
      "source": "### Task 4: analysing the results",
      "metadata": {},
      "id": "77099d97"
    },
    {
      "cell_type": "markdown",
      "source": "We'll start by plotting contours of the first POD mode ($v$ velocity component) and also add vectors, to get an idea of the flow direction. The crucial thing is that we  need to reshape the 1d array for the POD mode into a 2D array that can be fed to `plt.contourf`. We can simply use the NumPy function `np.reshape` for this",
      "metadata": {},
      "id": "a141759a"
    },
    {
      "cell_type": "code",
      "source": "# index of the POD to plot (plot 0, 1, 6, 100)\nidx = 0\n\n# reshape into nx by ny 2D array for plotting filled contours\nphi_u = np.reshape(PHI_u[:, idx], (nx, ny))\nphi_v = np.reshape(PHI_v[:, idx], (nx, ny))",
      "metadata": {},
      "execution_count": null,
      "outputs": [],
      "id": "6883162b"
    },
    {
      "cell_type": "code",
      "source": "plt.figure(5)\nplt.clf()\n\nlevels = np.linspace(-5, 5, 100)\n\nplt.contourf(mat[\"x\"], mat[\"y\"], phi_u, levels, cmap=\"seismic\")\n\n# scale controls the length of the vector (lower scale -> longer vectors)\nskip = 3\nplt.quiver(mat[\"x\"][::skip, ::skip], \n           mat[\"y\"][::skip, ::skip],\n           phi_u[::skip, ::skip],\n           phi_v[::skip, ::skip], scale=50)\n\n\nplt.xlabel(\"x/c\")\nplt.ylabel(\"y/c\")\nplt.gca().set_aspect(1)\nplt.grid(1)\n\nplot_airfoil(AoA)",
      "metadata": {},
      "execution_count": null,
      "outputs": [],
      "id": "bbe115d9"
    },
    {
      "cell_type": "markdown",
      "source": "As you can see, the first POD mode looks like a wave in the streamwise direction and  captures the process of shedding vortical structures from the airfoil. Change the code above to plot the $u$ component and check if the sign of the velocities matches with the expect flow direction. Plot also mode 2. As you can see this looks very similiar to mode 1 (note Python starts at zero), but it is shifted downstream by half a wave period. This is common for periodic flow with strongly convective components, as you need two structures (a sine and a cosine) to represent any arbitrary phase.\n\nTry also plotting other modes, e.g. modes 4 or 20. As you can see, the higher the mode index, the more complex the flow behaviour usually becomes.",
      "metadata": {},
      "id": "ad840709"
    },
    {
      "cell_type": "markdown",
      "source": "We can also plot the temporal coefficients. Let's also construct an array of times.",
      "metadata": {},
      "id": "43677c3c"
    },
    {
      "cell_type": "code",
      "source": "plt.figure(6)\nplt.clf()\nplt.subplots_adjust(wspace=0.4, hspace=0.4)\n\ntt = np.arange(m) * mat[\"dt\"][0][0]\n\n# mode 1 and 2\nplt.subplot(2, 1, 1)\nplt.plot(tt, A[:, 0], label=\"$a_1(t)$\")\nplt.plot(tt, A[:, 1], label=\"$a_2(t)$\")\nplt.legend()\nplt.grid(1)\nplt.ylabel(\"$a_i(t)$\")\nplt.xlabel(\"$t u_\\infty / c$\")\n\n# mode 3 and 4\nplt.subplot(2, 1, 2)\nplt.plot(tt, A[:, 9], label=\"$a_3(t)$\")\nplt.plot(tt, A[:, 10], label=\"$a_4(t)$\")\nplt.grid(1)\nplt.legend()\nplt.ylabel(\"$a_i(t)$\")\nplt.xlabel(\"$t u_\\infty / c$\")",
      "metadata": {},
      "execution_count": null,
      "outputs": [],
      "id": "2e5e726f"
    },
    {
      "cell_type": "markdown",
      "source": "As you can see, the coefficients are highly oscillatory, but they are far from being regular sine/cosine waves. The signals look modulated as if there are multiple frequency components mixed together. This is actually a property of POD, i.e. that it can mix together spatial behaviour that occurs at different frequencies. On the other hand, DMD can separate spatial structures that evolve at different frequencies, which is useful to distinguish independent flow processes.",
      "metadata": {},
      "id": "4ebd8a8a"
    },
    {
      "cell_type": "markdown",
      "source": "### Task 5: low rank reconstruction",
      "metadata": {},
      "id": "1cb94ef8"
    },
    {
      "cell_type": "markdown",
      "source": "In the last task of this lab, we are going to perform a low-rank reconstruction of the velocity fluctuation, using POD modes. Think about the cat example we have done a few lectures ago, where we have reconstructed the whole image (the whole dataset) with an increasing number of left/right singular vectors.",
      "metadata": {},
      "id": "c85e6f8a"
    },
    {
      "cell_type": "markdown",
      "source": "Let's attempt a rank-two reconstruction using two POD modes. To achieve this we take the first two columns of `PHI` and multiply by the first two columns of `A`, then transpose. ",
      "metadata": {},
      "id": "9fc11bd8"
    },
    {
      "cell_type": "code",
      "source": "# rank-k reconstruction\nk = 20\nXp_r = PHI[:, :k] @ A[:, :k].T",
      "metadata": {},
      "execution_count": null,
      "outputs": [],
      "id": "38c02f6d"
    },
    {
      "cell_type": "markdown",
      "source": "The product of these matrices gives us a matrix with the same shape of the data matrix. We'll append `_r`, for \"reconstructed\" to distinguish is from the original fluctuation data `Xp`.",
      "metadata": {},
      "id": "bf4d2fb0"
    },
    {
      "cell_type": "code",
      "source": "Xp_r.shape",
      "metadata": {},
      "execution_count": null,
      "outputs": [],
      "id": "0bc2087d"
    },
    {
      "cell_type": "markdown",
      "source": "What should be the rank of this matrix? Let's check:",
      "metadata": {},
      "id": "00a97dec"
    },
    {
      "cell_type": "code",
      "source": "# np.linalg.matrix_rank(Xp_r)",
      "metadata": {},
      "execution_count": null,
      "outputs": [],
      "id": "45e420fa"
    },
    {
      "cell_type": "markdown",
      "source": "Yes, two. This is consistent with the fact that we have constructed this matrix from the product of other smaller matrices.\n\nThe matrix `Xp_r` contains the reconstructed velocity fluctuation for all available snapshots. We can make an animation of this data and compare it with the original data. Note how I am unpacking the u and v components of the reconstructed snapshot vectors and then reshaping these into 2D arrays with size compatible with our grid data.\n\nWe plot the reconstructed flow in the top panel and the original data in the bottom one. We'll be plotting the transverse velocity component $v$ which is more indicative of large scale structures then the $u$ component",
      "metadata": {},
      "id": "f7b18f03"
    },
    {
      "cell_type": "code",
      "source": "# plt.figure(8)\nplt.subplots_adjust(right=0.99)\n\nlevels = np.linspace(-1, 1, 20)\nskip = 2\nscale = 10\n\nfor it in range(0, 100, 2):\n    plt.clf()\n    \n    # plot reconstructed snapshot\n    plt.subplot(211)\n    up_r = np.reshape(Xp_r[:nx*ny, it], (nx, ny))\n    vp_r = np.reshape(Xp_r[nx*ny:, it], (nx, ny))\n\n    plt.contourf(mat[\"x\"], mat[\"y\"], vp_r, levels, cmap=\"seismic\")\n    plt.colorbar(shrink=0.6, label=\"$v^\\prime_r(x, y, t)$\", ticks=[-1, 0, 1])\n    plt.gca().set_aspect(1)\n    plt.title(\"Reconstructed\")\n    \n    # the scale argument controls the length of the vector\n    # (lower scale -> longer vectors)\n    plt.quiver(mat[\"x\"][::skip, ::skip], \n               mat[\"y\"][::skip, ::skip],\n               up_r[::skip, ::skip],\n               vp_r[::skip, ::skip], scale=scale)\n\n    plot_airfoil(AoA)\n    plt.xlabel(\"x/c\")\n    plt.ylabel(\"y/c\")\n    plt.grid(1)\n    \n    # plot actual snapshot\n    plt.subplot(212)\n    up = np.reshape(Xp[:nx*ny, it], (nx, ny))\n    vp = np.reshape(Xp[nx*ny:, it], (nx, ny))\n\n    plt.contourf(mat[\"x\"], mat[\"y\"], vp, levels, cmap=\"seismic\")\n    plt.colorbar(shrink=0.6, label=\"$v^\\prime(x, y, t)$\", ticks=[-1, 0, 1])\n    plt.gca().set_aspect(1)\n    plt.title(\"Original\")\n    \n    # the scale argument controls the length of the vector\n    # (lower scale -> longer vectors)\n    plt.quiver(mat[\"x\"][::skip, ::skip], \n               mat[\"y\"][::skip, ::skip],\n               up[::skip, ::skip],\n               vp[::skip, ::skip], scale=scale)\n\n    plot_airfoil(AoA)\n    plt.xlabel(\"x/c\")\n    plt.ylabel(\"y/c\")\n    plt.grid(1)\n    \n    plt.pause(0.001)",
      "metadata": {},
      "execution_count": null,
      "outputs": [],
      "id": "bddcdf0f"
    },
    {
      "cell_type": "markdown",
      "source": "There are several remarks to be made:\n\n- the low rank reconstructed velocity field is much less noisy. All the noise upstream the airfoil due to measurement error has been removed. In fact, POD (and the SVD) works well as a denoisin technique.\n\n- the velocity fluctuations in the wake are more intense than what the reconstructed field predicts. This is normal, as with two modes we have only captured a fraction of the total energy of the fluctuations. \n\n- we have not really captured any of flow activity that features prominently in the near wake, e.g. the flow separation process starting at the airfoil's leading edge.",
      "metadata": {},
      "id": "fe5c1eaf"
    },
    {
      "cell_type": "markdown",
      "source": "### Task 6 - other things to work on in your own time",
      "metadata": {},
      "id": "6b5b4f81"
    },
    {
      "cell_type": "markdown",
      "source": "Now, here's a couple of interesting experiments to try at home.\n\n- try reconstructing the velocity fluctuations using only the first POD mode. You'll see that the ability of the low-rank reconstruction to model the convection of flow structures in the wake is lost. You need two modes shifted by half a period to describe this behaviour.\n\n- try a higher-rank reconstruction, e.g. with 10 or 20 modes.\n\n- explore the other dataset, for angle of attack $\\alpha=0$. Look at the POD modes and the temporal coefficients, and compare the drop of the modal energies with the dataset we have used in this lab.",
      "metadata": {},
      "id": "6e8a35cf"
    },
    {
      "cell_type": "markdown",
      "source": "### Bonus task - Fourier analysis",
      "metadata": {},
      "id": "0810e98f"
    },
    {
      "cell_type": "markdown",
      "source": "We can investigate the frequency content of the temporal coefficient $a_1(t)$ by computing its Fourier transform, to extract the frequency of the oscillation we see in the plot. For this, we can use the Welch method available in the `scipy.signal` package.",
      "metadata": {},
      "id": "e43aec9a"
    },
    {
      "cell_type": "code",
      "source": "import scipy.signal as ssg",
      "metadata": {},
      "execution_count": null,
      "outputs": [],
      "id": "c6ad0ae3"
    },
    {
      "cell_type": "markdown",
      "source": "The function `welch` returns a 1D array of frequencies and a 1D array with the corresponding energy.",
      "metadata": {},
      "id": "1788f8f3"
    },
    {
      "cell_type": "code",
      "source": "plt.figure(9)\nplt.clf()\n\n# plot the spectra for these modes\nidxs = [300]\n\nplt.subplot(211)\nfor idx in idxs:\n    # the sampling frequency is the inverse of the sampling interval\n    f, P = ssg.welch(A[:, idx], fs=1/mat[\"dt\"][0][0], window='hann', nperseg=1000)\n    plt.loglog(f, P, label=\"i=%d\" % idx)\n\nplt.legend()\nplt.grid(1)\nplt.xlabel(\"$f c / u_\\infty$\")\nplt.ylabel(\"PSD\")\n\n\nplt.subplot(212)\nfor idx in idxs:\n    plt.plot(tt, A[:, idx], label=\"i=%d\" % idx)\n\nplt.legend()\nplt.grid(1)\nplt.xlabel(\"t\")\nplt.ylabel(\"$a_i(t)$\")",
      "metadata": {},
      "execution_count": null,
      "outputs": [],
      "id": "cc61e7b6"
    },
    {
      "cell_type": "markdown",
      "source": "Note the label of the horizontal axis: the frequency is non-dimensional and it is scaled with the airfol chord and free stream velocity. What is the name of this nondimensional number?\n\nIn any case, we see that the energy peaks at a normalised frequency of about 0.85, but the spectrum shows significant energy away from the peak too! This is the symptom that the first POD temporal coefficient also contains information about flow processes that occur at other frequencies. ",
      "metadata": {},
      "id": "c17fbb27"
    },
    {
      "cell_type": "code",
      "source": "",
      "metadata": {},
      "execution_count": null,
      "outputs": [],
      "id": "67142c75-9d9f-4408-b018-826fe2de8956"
    },
    {
      "cell_type": "code",
      "source": "",
      "metadata": {},
      "execution_count": null,
      "outputs": [],
      "id": "709bd070-bd4c-41d7-818a-7c1f0504a844"
    },
    {
      "cell_type": "code",
      "source": "",
      "metadata": {},
      "execution_count": null,
      "outputs": [],
      "id": "8b61397e-4228-4496-b112-5caae97a8a99"
    },
    {
      "cell_type": "code",
      "source": "",
      "metadata": {},
      "execution_count": null,
      "outputs": [],
      "id": "aac91202-6e46-4e90-8662-2b659df5e589"
    }
  ]
}